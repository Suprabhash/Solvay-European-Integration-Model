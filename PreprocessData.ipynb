{
 "cells": [
  {
   "cell_type": "markdown",
   "metadata": {},
   "source": [
    "## Imports"
   ]
  },
  {
   "cell_type": "code",
   "execution_count": 3,
   "metadata": {},
   "outputs": [],
   "source": [
    "import pandas as pd"
   ]
  },
  {
   "cell_type": "markdown",
   "metadata": {},
   "source": [
    "## FixedBroadBand"
   ]
  },
  {
   "cell_type": "code",
   "execution_count": 5,
   "metadata": {},
   "outputs": [
    {
     "data": {
      "text/html": [
       "<div>\n",
       "<style scoped>\n",
       "    .dataframe tbody tr th:only-of-type {\n",
       "        vertical-align: middle;\n",
       "    }\n",
       "\n",
       "    .dataframe tbody tr th {\n",
       "        vertical-align: top;\n",
       "    }\n",
       "\n",
       "    .dataframe thead th {\n",
       "        text-align: right;\n",
       "    }\n",
       "</style>\n",
       "<table border=\"1\" class=\"dataframe\">\n",
       "  <thead>\n",
       "    <tr style=\"text-align: right;\">\n",
       "      <th></th>\n",
       "      <th>Country Name\\t2007\\t2008\\t2009\\t2010\\t2011\\t2012\\t2013\\t2014\\t2015\\t2016\\t2017\\t2018\\t2019\\t2020\\t2021\\t2022</th>\n",
       "    </tr>\n",
       "  </thead>\n",
       "  <tbody>\n",
       "    <tr>\n",
       "      <th>0</th>\n",
       "      <td>Albania\\t0.33601202\\t2.16825011\\t3.13935209\\t3...</td>\n",
       "    </tr>\n",
       "    <tr>\n",
       "      <th>1</th>\n",
       "      <td>Andorra\\t23.7002354\\t27.18033\\t31.0634783\\t34....</td>\n",
       "    </tr>\n",
       "    <tr>\n",
       "      <th>2</th>\n",
       "      <td>Austria\\t19.5546035\\t20.7784229\\t22.516342\\t24...</td>\n",
       "    </tr>\n",
       "    <tr>\n",
       "      <th>3</th>\n",
       "      <td>Belgium\\t25.6213806\\t27.8044091\\t29.193205\\t31...</td>\n",
       "    </tr>\n",
       "    <tr>\n",
       "      <th>4</th>\n",
       "      <td>Bulgaria\\t8.1496705\\t10.9910301\\t13.0722922\\t1...</td>\n",
       "    </tr>\n",
       "  </tbody>\n",
       "</table>\n",
       "</div>"
      ],
      "text/plain": [
       "  Country Name\\t2007\\t2008\\t2009\\t2010\\t2011\\t2012\\t2013\\t2014\\t2015\\t2016\\t2017\\t2018\\t2019\\t2020\\t2021\\t2022\n",
       "0  Albania\\t0.33601202\\t2.16825011\\t3.13935209\\t3...                                                          \n",
       "1  Andorra\\t23.7002354\\t27.18033\\t31.0634783\\t34....                                                          \n",
       "2  Austria\\t19.5546035\\t20.7784229\\t22.516342\\t24...                                                          \n",
       "3  Belgium\\t25.6213806\\t27.8044091\\t29.193205\\t31...                                                          \n",
       "4  Bulgaria\\t8.1496705\\t10.9910301\\t13.0722922\\t1...                                                          "
      ]
     },
     "execution_count": 5,
     "metadata": {},
     "output_type": "execute_result"
    }
   ],
   "source": [
    "# Loading the dataset\n",
    "file_path = 'FixedBroadbandProcessed.csv'\n",
    "dataset = pd.read_csv(file_path)\n",
    "\n",
    "# Displaying the first few rows of the dataset to understand its structure\n",
    "dataset.head()"
   ]
  },
  {
   "cell_type": "code",
   "execution_count": 8,
   "metadata": {},
   "outputs": [],
   "source": [
    "# Splitting the dataset into columns using tab delimiter\n",
    "split_dataset = dataset['Country Name\\t2007\\t2008\\t2009\\t2010\\t2011\\t2012\\t2013\\t2014\\t2015\\t2016\\t2017\\t2018\\t2019\\t2020\\t2021\\t2022'].str.split('\\t', expand=True)\n",
    "\n",
    "# Renaming the first column to 'Country Name' and others to respective years\n",
    "split_dataset.columns = ['Country Name'] + [str(year) for year in range(2007, 2023)]\n",
    "\n",
    "# Melting the dataset to convert it into a long format\n",
    "long_format_dataset = split_dataset.melt(id_vars=['Country Name'], var_name='Year', value_name='Value')\n",
    "\n",
    "# Filtering the dataset to include data only from the year 2010 onwards\n",
    "long_format_dataset = long_format_dataset[long_format_dataset['Year'].astype(int) >= 2010]\n",
    "\n",
    "# Displaying the first few rows of the filtered dataset\n",
    "long_format_dataset.head()\n",
    "long_format_dataset.to_csv('FixedBroadbandProcessedPanel.csv', index=False)"
   ]
  },
  {
   "cell_type": "markdown",
   "metadata": {},
   "source": [
    "## Mobile Data Penetration"
   ]
  },
  {
   "cell_type": "code",
   "execution_count": 11,
   "metadata": {},
   "outputs": [],
   "source": [
    "# Re-loading the datasets due to the reset of the code execution state\n",
    "file_path_fixed_broadband = 'FixedBroadbandProcessedPanel.csv'\n",
    "file_path_indicator = 'MobileBroadband/indicator_11_20231217_all.csv'\n",
    "\n",
    "# Loading the datasets\n",
    "fixed_broadband_df = pd.read_csv(file_path_fixed_broadband)\n",
    "indicator_df = pd.read_csv(file_path_indicator)\n",
    "\n",
    "# Filtering both datasets to include only common countries\n",
    "common_countries = set(fixed_broadband_df['Country Name']).intersection(set(indicator_df['Country']))\n",
    "\n",
    "filtered_fixed_broadband_df = fixed_broadband_df[fixed_broadband_df['Country Name'].isin(common_countries)]\n",
    "filtered_indicator_df = indicator_df[indicator_df['Country'].isin(common_countries)]\n",
    "\n",
    "# Merging the two datasets on 'Country Name' and 'Year'\n",
    "merged_df = pd.merge(filtered_fixed_broadband_df, filtered_indicator_df, left_on=['Country Name', 'Year'], right_on=['Country', 'Year'])\n",
    "\n",
    "# Displaying the first few rows of the merged dataset\n",
    "merged_df.head()\n",
    "\n",
    "#Save the merged dataset\n",
    "merged_df.to_csv('data.csv', index=False)\n"
   ]
  },
  {
   "cell_type": "markdown",
   "metadata": {},
   "source": [
    "## GDP"
   ]
  },
  {
   "cell_type": "code",
   "execution_count": 13,
   "metadata": {},
   "outputs": [],
   "source": [
    "# Define the file path\n",
    "file_path = 'MobileBroadband/indicator_11_20231217_all.xlsx'\n",
    "\n",
    "# Read the Excel file and save it as a dataframe\n",
    "df = pd.read_excel(file_path)\n",
    "\n",
    "iso_to_country = dict(zip(df['ISO'], df['Country']))"
   ]
  },
  {
   "cell_type": "code",
   "execution_count": 21,
   "metadata": {},
   "outputs": [
    {
     "data": {
      "text/html": [
       "<div>\n",
       "<style scoped>\n",
       "    .dataframe tbody tr th:only-of-type {\n",
       "        vertical-align: middle;\n",
       "    }\n",
       "\n",
       "    .dataframe tbody tr th {\n",
       "        vertical-align: top;\n",
       "    }\n",
       "\n",
       "    .dataframe thead th {\n",
       "        text-align: right;\n",
       "    }\n",
       "</style>\n",
       "<table border=\"1\" class=\"dataframe\">\n",
       "  <thead>\n",
       "    <tr style=\"text-align: right;\">\n",
       "      <th></th>\n",
       "      <th>Year</th>\n",
       "      <th>GDP(milUSD)</th>\n",
       "      <th>Country Name</th>\n",
       "    </tr>\n",
       "  </thead>\n",
       "  <tbody>\n",
       "    <tr>\n",
       "      <th>0</th>\n",
       "      <td>2010</td>\n",
       "      <td>943487.934</td>\n",
       "      <td>Australia</td>\n",
       "    </tr>\n",
       "    <tr>\n",
       "      <th>1</th>\n",
       "      <td>2011</td>\n",
       "      <td>993249.916</td>\n",
       "      <td>Australia</td>\n",
       "    </tr>\n",
       "    <tr>\n",
       "      <th>2</th>\n",
       "      <td>2012</td>\n",
       "      <td>998266.252</td>\n",
       "      <td>Australia</td>\n",
       "    </tr>\n",
       "    <tr>\n",
       "      <th>3</th>\n",
       "      <td>2013</td>\n",
       "      <td>1105431.180</td>\n",
       "      <td>Australia</td>\n",
       "    </tr>\n",
       "    <tr>\n",
       "      <th>4</th>\n",
       "      <td>2014</td>\n",
       "      <td>1118585.036</td>\n",
       "      <td>Australia</td>\n",
       "    </tr>\n",
       "  </tbody>\n",
       "</table>\n",
       "</div>"
      ],
      "text/plain": [
       "   Year  GDP(milUSD) Country Name\n",
       "0  2010   943487.934    Australia\n",
       "1  2011   993249.916    Australia\n",
       "2  2012   998266.252    Australia\n",
       "3  2013  1105431.180    Australia\n",
       "4  2014  1118585.036    Australia"
      ]
     },
     "execution_count": 21,
     "metadata": {},
     "output_type": "execute_result"
    }
   ],
   "source": [
    "# Define the file path\n",
    "file_path = 'GDP.csv'\n",
    "\n",
    "# Read the CSV file and save it as a dataframe\n",
    "gdp_df = pd.read_csv(file_path)\n",
    "\n",
    "# Convert country code to country names using the iso_to_country map\n",
    "gdp_df['Country Name'] = gdp_df['Country Code'].map(iso_to_country)\n",
    "gdp_df = gdp_df.drop(columns=['Country Code'])\n",
    "\n",
    "# Display the dataframe\n",
    "gdp_df.head()\n"
   ]
  },
  {
   "cell_type": "code",
   "execution_count": 22,
   "metadata": {},
   "outputs": [
    {
     "data": {
      "text/html": [
       "<div>\n",
       "<style scoped>\n",
       "    .dataframe tbody tr th:only-of-type {\n",
       "        vertical-align: middle;\n",
       "    }\n",
       "\n",
       "    .dataframe tbody tr th {\n",
       "        vertical-align: top;\n",
       "    }\n",
       "\n",
       "    .dataframe thead th {\n",
       "        text-align: right;\n",
       "    }\n",
       "</style>\n",
       "<table border=\"1\" class=\"dataframe\">\n",
       "  <thead>\n",
       "    <tr style=\"text-align: right;\">\n",
       "      <th></th>\n",
       "      <th>Year</th>\n",
       "      <th>GDP(milUSD)</th>\n",
       "      <th>Country Name</th>\n",
       "      <th>FixedBroadbandPenetration</th>\n",
       "      <th>MobileBroadbandPenetration</th>\n",
       "    </tr>\n",
       "  </thead>\n",
       "  <tbody>\n",
       "    <tr>\n",
       "      <th>0</th>\n",
       "      <td>2010</td>\n",
       "      <td>351323.808</td>\n",
       "      <td>Austria</td>\n",
       "      <td>24.518019</td>\n",
       "      <td>33.015</td>\n",
       "    </tr>\n",
       "    <tr>\n",
       "      <th>1</th>\n",
       "      <td>2011</td>\n",
       "      <td>373031.477</td>\n",
       "      <td>Austria</td>\n",
       "      <td>24.998808</td>\n",
       "      <td>46.003</td>\n",
       "    </tr>\n",
       "    <tr>\n",
       "      <th>2</th>\n",
       "      <td>2012</td>\n",
       "      <td>391635.176</td>\n",
       "      <td>Austria</td>\n",
       "      <td>25.270368</td>\n",
       "      <td>58.056</td>\n",
       "    </tr>\n",
       "    <tr>\n",
       "      <th>3</th>\n",
       "      <td>2013</td>\n",
       "      <td>406370.245</td>\n",
       "      <td>Austria</td>\n",
       "      <td>26.328082</td>\n",
       "      <td>64.479</td>\n",
       "    </tr>\n",
       "    <tr>\n",
       "      <th>4</th>\n",
       "      <td>2014</td>\n",
       "      <td>417059.519</td>\n",
       "      <td>Austria</td>\n",
       "      <td>27.603344</td>\n",
       "      <td>67.056</td>\n",
       "    </tr>\n",
       "  </tbody>\n",
       "</table>\n",
       "</div>"
      ],
      "text/plain": [
       "   Year  GDP(milUSD) Country Name  FixedBroadbandPenetration  \\\n",
       "0  2010   351323.808      Austria                  24.518019   \n",
       "1  2011   373031.477      Austria                  24.998808   \n",
       "2  2012   391635.176      Austria                  25.270368   \n",
       "3  2013   406370.245      Austria                  26.328082   \n",
       "4  2014   417059.519      Austria                  27.603344   \n",
       "\n",
       "   MobileBroadbandPenetration  \n",
       "0                      33.015  \n",
       "1                      46.003  \n",
       "2                      58.056  \n",
       "3                      64.479  \n",
       "4                      67.056  "
      ]
     },
     "execution_count": 22,
     "metadata": {},
     "output_type": "execute_result"
    }
   ],
   "source": [
    "merged_df = pd.merge(gdp_df, pd.read_csv('data.csv'), on=['Country Name', 'Year'])\n",
    "merged_df.head()"
   ]
  },
  {
   "cell_type": "code",
   "execution_count": 23,
   "metadata": {},
   "outputs": [],
   "source": [
    "merged_df.to_csv('FinalDataSet.csv', index=False)"
   ]
  },
  {
   "cell_type": "markdown",
   "metadata": {},
   "source": [
    "## Get Final Dataset"
   ]
  },
  {
   "cell_type": "code",
   "execution_count": 24,
   "metadata": {},
   "outputs": [
    {
     "data": {
      "text/html": [
       "<div>\n",
       "<style scoped>\n",
       "    .dataframe tbody tr th:only-of-type {\n",
       "        vertical-align: middle;\n",
       "    }\n",
       "\n",
       "    .dataframe tbody tr th {\n",
       "        vertical-align: top;\n",
       "    }\n",
       "\n",
       "    .dataframe thead th {\n",
       "        text-align: right;\n",
       "    }\n",
       "</style>\n",
       "<table border=\"1\" class=\"dataframe\">\n",
       "  <thead>\n",
       "    <tr style=\"text-align: right;\">\n",
       "      <th></th>\n",
       "      <th>Country Name</th>\n",
       "      <th>Year</th>\n",
       "      <th>FixedBroadbandPenetration</th>\n",
       "      <th>MobileBroadbandPenetration</th>\n",
       "      <th>GDP(milUSD)</th>\n",
       "    </tr>\n",
       "  </thead>\n",
       "  <tbody>\n",
       "    <tr>\n",
       "      <th>0</th>\n",
       "      <td>Austria</td>\n",
       "      <td>2010</td>\n",
       "      <td>24.518019</td>\n",
       "      <td>33.015</td>\n",
       "      <td>351323.808</td>\n",
       "    </tr>\n",
       "    <tr>\n",
       "      <th>1</th>\n",
       "      <td>Belgium</td>\n",
       "      <td>2010</td>\n",
       "      <td>31.009007</td>\n",
       "      <td>9.550</td>\n",
       "      <td>434058.868</td>\n",
       "    </tr>\n",
       "    <tr>\n",
       "      <th>2</th>\n",
       "      <td>Czechia</td>\n",
       "      <td>2010</td>\n",
       "      <td>21.607580</td>\n",
       "      <td>5.157</td>\n",
       "      <td>292032.224</td>\n",
       "    </tr>\n",
       "    <tr>\n",
       "      <th>3</th>\n",
       "      <td>Denmark</td>\n",
       "      <td>2010</td>\n",
       "      <td>38.055555</td>\n",
       "      <td>63.921</td>\n",
       "      <td>238555.117</td>\n",
       "    </tr>\n",
       "    <tr>\n",
       "      <th>4</th>\n",
       "      <td>France</td>\n",
       "      <td>2010</td>\n",
       "      <td>34.169506</td>\n",
       "      <td>35.525</td>\n",
       "      <td>2334557.742</td>\n",
       "    </tr>\n",
       "  </tbody>\n",
       "</table>\n",
       "</div>"
      ],
      "text/plain": [
       "  Country Name  Year  FixedBroadbandPenetration  MobileBroadbandPenetration  \\\n",
       "0      Austria  2010                  24.518019                      33.015   \n",
       "1      Belgium  2010                  31.009007                       9.550   \n",
       "2      Czechia  2010                  21.607580                       5.157   \n",
       "3      Denmark  2010                  38.055555                      63.921   \n",
       "4       France  2010                  34.169506                      35.525   \n",
       "\n",
       "   GDP(milUSD)  \n",
       "0   351323.808  \n",
       "1   434058.868  \n",
       "2   292032.224  \n",
       "3   238555.117  \n",
       "4  2334557.742  "
      ]
     },
     "execution_count": 24,
     "metadata": {},
     "output_type": "execute_result"
    }
   ],
   "source": [
    "# Define the file path\n",
    "file_path = 'FinalDataSet.csv'\n",
    "\n",
    "# Read the CSV file and save it as a dataframe\n",
    "final_df = pd.read_csv(file_path)\n",
    "\n",
    "# Display the dataframe\n",
    "final_df.head()\n"
   ]
  },
  {
   "cell_type": "code",
   "execution_count": null,
   "metadata": {},
   "outputs": [],
   "source": []
  }
 ],
 "metadata": {
  "kernelspec": {
   "display_name": ".venv",
   "language": "python",
   "name": "python3"
  },
  "language_info": {
   "codemirror_mode": {
    "name": "ipython",
    "version": 3
   },
   "file_extension": ".py",
   "mimetype": "text/x-python",
   "name": "python",
   "nbconvert_exporter": "python",
   "pygments_lexer": "ipython3",
   "version": "3.9.6"
  }
 },
 "nbformat": 4,
 "nbformat_minor": 2
}
